{
 "cells": [
  {
   "cell_type": "code",
   "execution_count": 23,
   "id": "9079fd21",
   "metadata": {},
   "outputs": [],
   "source": [
    "import sagemaker\n",
    "from sagemaker.tensorflow import TensorFlowModel\n",
    "from sagemaker import get_execution_role\n",
    "import pandas as pd\n",
    "import numpy as np\n",
    "import matplotlib.pyplot as plt\n",
    "import boto3"
   ]
  },
  {
   "cell_type": "code",
   "execution_count": 27,
   "id": "9919b42a",
   "metadata": {},
   "outputs": [],
   "source": [
    "role = \"arn:aws:iam::872752221913:role/SageMakerRecyclingRole\"\n",
    "session = sagemaker.Session(boto_session=boto3.Session())\n",
    "\n",
    "tf_model = TensorFlowModel(\n",
    "    model_data = 's3://recycling-assistant/models/model.tar.gz',\n",
    "    role=role,\n",
    "    framework_version='2.18',\n",
    "    #entry_point='inference.py',\n",
    "    #source_dir='serving_code',\n",
    "    sagemaker_session=session\n",
    ")"
   ]
  },
  {
   "cell_type": "code",
   "execution_count": null,
   "id": "5df9fa36",
   "metadata": {},
   "outputs": [],
   "source": [
    "# blocker -- need to wait until the quota is granted access in terms of the ml.c4.2xlarge endpoint usage in order to run the below cell\n",
    "# then can later check if the endpoint has been created and deployed in the inference tab in the AWS SageMaker AI section listed underneath endpoints\n",
    "# this will show up as inservice when it has been created and is running with the below code when it is deployed"
   ]
  },
  {
   "cell_type": "code",
   "execution_count": 28,
   "id": "8abd2dcc",
   "metadata": {},
   "outputs": [
    {
     "name": "stdout",
     "output_type": "stream",
     "text": [
      "----!"
     ]
    }
   ],
   "source": [
    "predictor = tf_model.deploy(\n",
    "    initial_instance_count=1,\n",
    "    instance_type='ml.c4.2xlarge'\n",
    ")"
   ]
  },
  {
   "cell_type": "code",
   "execution_count": null,
   "id": "670585aa",
   "metadata": {},
   "outputs": [],
   "source": [
    "# can test the endpoint and if it works with the rest of the functions from the inference.py\n",
    "\n",
    "# https://www.youtube.com/watch?v=S0PNZyfc9sQ"
   ]
  }
 ],
 "metadata": {
  "kernelspec": {
   "display_name": "tf-env",
   "language": "python",
   "name": "python3"
  },
  "language_info": {
   "codemirror_mode": {
    "name": "ipython",
    "version": 3
   },
   "file_extension": ".py",
   "mimetype": "text/x-python",
   "name": "python",
   "nbconvert_exporter": "python",
   "pygments_lexer": "ipython3",
   "version": "3.12.3"
  }
 },
 "nbformat": 4,
 "nbformat_minor": 5
}
